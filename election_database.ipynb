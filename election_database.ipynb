{
  "nbformat": 4,
  "nbformat_minor": 0,
  "metadata": {
    "colab": {
      "name": "election_database.ipynb",
      "provenance": [],
      "collapsed_sections": [],
      "toc_visible": true
    },
    "kernelspec": {
      "name": "python3",
      "display_name": "Python 3"
    },
    "language_info": {
      "name": "python"
    }
  },
  "cells": [
    {
      "cell_type": "markdown",
      "metadata": {
        "id": "xw0QtxzwR4HV"
      },
      "source": [
        "# Import Library"
      ]
    },
    {
      "cell_type": "code",
      "metadata": {
        "colab": {
          "base_uri": "https://localhost:8080/"
        },
        "id": "oCgQCPamgR5f",
        "outputId": "53fd51f5-57fe-4701-f9a2-ca600c1dd3ef"
      },
      "source": [
        "!pip install pymysql"
      ],
      "execution_count": 1,
      "outputs": [
        {
          "output_type": "stream",
          "text": [
            "Collecting pymysql\n",
            "\u001b[?25l  Downloading https://files.pythonhosted.org/packages/4f/52/a115fe175028b058df353c5a3d5290b71514a83f67078a6482cff24d6137/PyMySQL-1.0.2-py3-none-any.whl (43kB)\n",
            "\r\u001b[K     |███████▌                        | 10kB 13.2MB/s eta 0:00:01\r\u001b[K     |███████████████                 | 20kB 20.5MB/s eta 0:00:01\r\u001b[K     |██████████████████████▍         | 30kB 16.6MB/s eta 0:00:01\r\u001b[K     |██████████████████████████████  | 40kB 18.5MB/s eta 0:00:01\r\u001b[K     |████████████████████████████████| 51kB 3.4MB/s \n",
            "\u001b[?25hInstalling collected packages: pymysql\n",
            "Successfully installed pymysql-1.0.2\n"
          ],
          "name": "stdout"
        }
      ]
    },
    {
      "cell_type": "code",
      "metadata": {
        "id": "TJid1331R30v"
      },
      "source": [
        "import json\n",
        "import urllib\n",
        "import pandas as pd\n",
        "from urllib.parse import urlencode, quote_plus, unquote, quote\n",
        "from urllib.request import urlopen\n",
        "from pandas.io.json import json_normalize\n",
        "from sqlalchemy import create_engine\n",
        "import pymysql\n",
        "import datetime as dt\n",
        "import sklearn\n",
        "from sklearn.preprocessing import LabelEncoder\n",
        "\n",
        "pymysql.install_as_MySQLdb()\n",
        "import MySQLdb\n",
        "\n",
        "pd.options.display.max_colwidth = 100"
      ],
      "execution_count": 173,
      "outputs": []
    },
    {
      "cell_type": "markdown",
      "metadata": {
        "id": "QJl9SpI8R7oJ"
      },
      "source": [
        "# Dataframe make function"
      ]
    },
    {
      "cell_type": "code",
      "metadata": {
        "id": "nQ7Tnfd_R7dZ"
      },
      "source": [
        "service_key = 'SE0dHlfRrFs9F7Z8K6y6qmYRqrAFPtIrJnMdsrJLTMm1y5JvTVKl5Z8JpG4%2BBcvj%2Bv9kS1d1%2B8gQBmmxcMqMXg%3D%3D'"
      ],
      "execution_count": 3,
      "outputs": []
    },
    {
      "cell_type": "markdown",
      "metadata": {
        "id": "j1CbS2MOSF2y"
      },
      "source": [
        "## Election Code dataframe make function"
      ]
    },
    {
      "cell_type": "code",
      "metadata": {
        "id": "MjotY0EaR089"
      },
      "source": [
        "def get_election_df(pg_num = 1, num_row = 100):\n",
        "  election_base_url = 'http://apis.data.go.kr/9760000/CommonCodeService/getCommonSgCodeList'\n",
        "\n",
        "  page_no = str(pg_num)\n",
        "  num_of_rows = str(num_row)                                  # maximum 34 datas\n",
        "\n",
        "  queryParams = '?' + urlencode({\n",
        "      quote_plus('pageNo') : page_no,\n",
        "      quote_plus('numOfRows') : num_of_rows,\n",
        "      quote_plus('resultType') : 'json',\n",
        "      quote_plus('ServiceKey') : service_key \n",
        "  })\n",
        "\n",
        "  API_election_code_url = election_base_url + unquote(queryParams)\n",
        "\n",
        "  # Election code load\n",
        "\n",
        "  '''\n",
        "  < election code >\n",
        "  (0)대표선거명               \n",
        "  (1)대통령,(2)국회의원,(3)시도지사,(4)구시군장,(5)시도의원,(6)구시군의회의원\n",
        "  (7)국회의원비례대표,(8)광역의원비례대표,(9)기초의원비례대표,(10)교육의원,(11)교육감\n",
        "  '''\n",
        "\n",
        "  response = urlopen(API_election_code_url)\n",
        "  json_str = response.read()\n",
        "\n",
        "  json_object = json.loads(json_str)\n",
        "\n",
        "  body = [json_object['getCommonSgCodeList']['item']]\n",
        "\n",
        "  election_code_data = pd.json_normalize(json_object['getCommonSgCodeList']['item'])\n",
        "  \n",
        "  return election_code_data"
      ],
      "execution_count": 4,
      "outputs": []
    },
    {
      "cell_type": "markdown",
      "metadata": {
        "id": "R87ppln7UXq1"
      },
      "source": [
        "## Candidate Info dataframe make function"
      ]
    },
    {
      "cell_type": "code",
      "metadata": {
        "id": "VmNqJrVFUa1S"
      },
      "source": [
        "def get_candidate_df(sgId, sgTypecode, num_of_row=1000):\n",
        "  candidate_base_url = 'http://apis.data.go.kr/9760000/PofelcddInfoInqireService/getPofelcddRegistSttusInfoInqire'\n",
        "\n",
        "  queryParams = '?' + urlencode({\n",
        "      quote_plus('numOfRows') : str(num_of_row),        # optional\n",
        "      quote_plus('sgId') : str(sgId),                   # load from election code\n",
        "      quote_plus('sgTypecode') : str(sgTypecode),       # load from election code\n",
        "      quote_plus('sggName') : '',                       # optional\n",
        "      quote_plus('sdName') : '',                        # optional\n",
        "      quote_plus('resultType') : 'json',                # must set JSON\n",
        "      quote_plus('ServiceKey') : service_key\n",
        "  })\n",
        "\n",
        "  API_candidate_url = candidate_base_url + unquote(queryParams)\n",
        "\n",
        "  # candidate info load\n",
        "\n",
        "  response = urlopen(API_candidate_url)\n",
        "  json_str = response.read().decode('utf-8')\n",
        "\n",
        "  json_object = json.loads(json_str)\n",
        "\n",
        "  body = [json_object['getPofelcddRegistSttusInfoInqire']['item']]\n",
        "\n",
        "  candidate_data = pd.json_normalize(json_object['getPofelcddRegistSttusInfoInqire']['item'])\n",
        "\n",
        "  candidate_data.rename(columns={'HUBOID' : 'cnddtId', 'JD_NAME': 'partyName'}, inplace=True)\n",
        "\n",
        "  return candidate_data"
      ],
      "execution_count": 5,
      "outputs": []
    },
    {
      "cell_type": "markdown",
      "metadata": {
        "id": "mgSdgwq1Zwrn"
      },
      "source": [
        "## Elction Promise dataframe make function"
      ]
    },
    {
      "cell_type": "code",
      "metadata": {
        "id": "8bGVl93kZzVp"
      },
      "source": [
        "def get_promise_df(sgId, sgTypecode, hudoId):\n",
        "  # 선거종료 후 데이터가 갱신되는 시점부터는 당선인의 공약 정보만 제공\n",
        "\n",
        "  promise_base_url = 'http://apis.data.go.kr/9760000/ElecPrmsInfoInqireService/getCnddtElecPrmsInfoInqire'\n",
        "\n",
        "  queryParams = '?' + urlencode({\n",
        "      quote_plus('sgId') : str(sgId),                   # load from election code\n",
        "      quote_plus('sgTypecode') : str(sgTypecode),       # load from election code\n",
        "      quote_plus('cnddtId') : str(hudoId),              # parameter name is cnddtId but DB column name is HUBOID\n",
        "      quote_plus('resultType') : 'json',                # must set JSON\n",
        "      quote_plus('ServiceKey') : service_key\n",
        "  })\n",
        "\n",
        "  API_promise_url = promise_base_url + unquote(queryParams)\n",
        "\n",
        "  # promise load\n",
        "\n",
        "  response = urlopen(API_promise_url)\n",
        "  json_str = response.read().decode('utf-8')\n",
        "\n",
        "  json_object = json.loads(json_str)\n",
        "\n",
        "  body = [json_object['getCnddtElecPrmsInfoInqire']['item']]\n",
        "\n",
        "  promise_data = pd.json_normalize(json_object['getCnddtElecPrmsInfoInqire']['item'])\n",
        "\n",
        "  return promise_data"
      ],
      "execution_count": 6,
      "outputs": []
    },
    {
      "cell_type": "markdown",
      "metadata": {
        "id": "UtFN_dsadiud"
      },
      "source": [
        "## Polls Info dataframe make function\n"
      ]
    },
    {
      "cell_type": "markdown",
      "metadata": {
        "id": "FR5QSaGPdp-3"
      },
      "source": [
        "### Pre polls info dataframe make function"
      ]
    },
    {
      "cell_type": "code",
      "metadata": {
        "id": "hCFLOK__bWxl"
      },
      "source": [
        "def get_prepoll_df(sgId, sdName):\n",
        "  prepoll_base_url = 'http://apis.data.go.kr/9760000/PolplcInfoInqireService2/getPrePolplcOtlnmapTrnsportInfoInqire'\n",
        "\n",
        "  queryParams = '?' + urlencode({\n",
        "      quote_plus('sgId') : str(sgId),                   # load from election code\n",
        "      quote_plus('sdName') : quote(sdName),             # must input parameter, query parma is korean, so wrap the quote\n",
        "      quote_plus('resultType') : 'json',                # must set JSON\n",
        "      quote_plus('ServiceKey') : service_key\n",
        "  })\n",
        "\n",
        "  API_prepoll_url = prepoll_base_url + unquote(queryParams)\n",
        "\n",
        "  response = urlopen(API_prepoll_url)\n",
        "  json_str = response.read().decode('utf-8')\n",
        "\n",
        "  json_object = json.loads(json_str)\n",
        "\n",
        "  body = [json_object['getPrePolplcOtlnmapTrnsportInfoInqire']['item']]\n",
        "\n",
        "  prepoll_data = pd.json_normalize(json_object['getPrePolplcOtlnmapTrnsportInfoInqire']['item'])\n",
        "  return prepoll_data"
      ],
      "execution_count": 7,
      "outputs": []
    },
    {
      "cell_type": "markdown",
      "metadata": {
        "id": "bWhwTNKEfn91"
      },
      "source": [
        "### Main polls info dataframe make function"
      ]
    },
    {
      "cell_type": "code",
      "metadata": {
        "id": "fDeV7GKXfrDa"
      },
      "source": [
        "def get_mainpoll_df(sgId, sdName):\n",
        "  poll_base_url = 'http://apis.data.go.kr/9760000/PolplcInfoInqireService2/getPolplcOtlnmapTrnsportInfoInqire'\n",
        "\n",
        "  queryParams = '?' + urlencode({\n",
        "      quote_plus('sgId') : str(sgId),                   # load from election code\n",
        "      quote_plus('sdName') : quote(sdName),             # must input parameter, query parma is korean, so wrap the quote\n",
        "      quote_plus('resultType') : 'json',                # must set JSON\n",
        "      quote_plus('ServiceKey') : service_key\n",
        "  })\n",
        "\n",
        "  API_poll_url = poll_base_url + unquote(queryParams)\n",
        "\n",
        "  response = urlopen(API_poll_url)\n",
        "  json_str = response.read().decode('utf-8')\n",
        "\n",
        "  json_object = json.loads(json_str)\n",
        "\n",
        "  body = [json_object['getPolplcOtlnmapTrnsportInfoInqire']['item']]\n",
        "\n",
        "  poll_data = pd.json_normalize(json_object['getPolplcOtlnmapTrnsportInfoInqire']['item'])\n",
        "  return poll_data"
      ],
      "execution_count": 8,
      "outputs": []
    },
    {
      "cell_type": "markdown",
      "metadata": {
        "id": "nj4Li0ZxSc0O"
      },
      "source": [
        "# DataFrame load test"
      ]
    },
    {
      "cell_type": "markdown",
      "metadata": {
        "id": "rSmGblBdsmG-"
      },
      "source": [
        "## Election code load"
      ]
    },
    {
      "cell_type": "code",
      "metadata": {
        "colab": {
          "base_uri": "https://localhost:8080/",
          "height": 204
        },
        "id": "9Me3JFPZst9k",
        "outputId": "93e0ce07-9e66-4cae-e8c7-385811e3bd8f"
      },
      "source": [
        "get_election_df().head()"
      ],
      "execution_count": 174,
      "outputs": [
        {
          "output_type": "execute_result",
          "data": {
            "text/html": [
              "<div>\n",
              "<style scoped>\n",
              "    .dataframe tbody tr th:only-of-type {\n",
              "        vertical-align: middle;\n",
              "    }\n",
              "\n",
              "    .dataframe tbody tr th {\n",
              "        vertical-align: top;\n",
              "    }\n",
              "\n",
              "    .dataframe thead th {\n",
              "        text-align: right;\n",
              "    }\n",
              "</style>\n",
              "<table border=\"1\" class=\"dataframe\">\n",
              "  <thead>\n",
              "    <tr style=\"text-align: right;\">\n",
              "      <th></th>\n",
              "      <th>NUM</th>\n",
              "      <th>SG_ID</th>\n",
              "      <th>SG_NAME</th>\n",
              "      <th>SG_TYPECODE</th>\n",
              "      <th>SG_VOTEDATE</th>\n",
              "    </tr>\n",
              "  </thead>\n",
              "  <tbody>\n",
              "    <tr>\n",
              "      <th>0</th>\n",
              "      <td>1</td>\n",
              "      <td>20160413</td>\n",
              "      <td>제20대 국회의원선거</td>\n",
              "      <td>0</td>\n",
              "      <td>20160413</td>\n",
              "    </tr>\n",
              "    <tr>\n",
              "      <th>1</th>\n",
              "      <td>2</td>\n",
              "      <td>20160413</td>\n",
              "      <td>국회의원선거</td>\n",
              "      <td>2</td>\n",
              "      <td>20160413</td>\n",
              "    </tr>\n",
              "    <tr>\n",
              "      <th>2</th>\n",
              "      <td>3</td>\n",
              "      <td>20160413</td>\n",
              "      <td>구·시·군의장선거</td>\n",
              "      <td>4</td>\n",
              "      <td>20160413</td>\n",
              "    </tr>\n",
              "    <tr>\n",
              "      <th>3</th>\n",
              "      <td>4</td>\n",
              "      <td>20160413</td>\n",
              "      <td>시·도의회의원선거</td>\n",
              "      <td>5</td>\n",
              "      <td>20160413</td>\n",
              "    </tr>\n",
              "    <tr>\n",
              "      <th>4</th>\n",
              "      <td>5</td>\n",
              "      <td>20160413</td>\n",
              "      <td>구·시·군의회의원선거</td>\n",
              "      <td>6</td>\n",
              "      <td>20160413</td>\n",
              "    </tr>\n",
              "  </tbody>\n",
              "</table>\n",
              "</div>"
            ],
            "text/plain": [
              "  NUM     SG_ID      SG_NAME SG_TYPECODE SG_VOTEDATE\n",
              "0   1  20160413  제20대 국회의원선거           0    20160413\n",
              "1   2  20160413       국회의원선거           2    20160413\n",
              "2   3  20160413    구·시·군의장선거           4    20160413\n",
              "3   4  20160413    시·도의회의원선거           5    20160413\n",
              "4   5  20160413  구·시·군의회의원선거           6    20160413"
            ]
          },
          "metadata": {
            "tags": []
          },
          "execution_count": 174
        }
      ]
    },
    {
      "cell_type": "markdown",
      "metadata": {
        "id": "kA7SHPT7svFb"
      },
      "source": [
        "## Cadidate info load"
      ]
    },
    {
      "cell_type": "code",
      "metadata": {
        "colab": {
          "base_uri": "https://localhost:8080/",
          "height": 972
        },
        "id": "zFiAeIcHsxsu",
        "outputId": "a4d59996-ccd9-4fef-f28a-154edc104aa7"
      },
      "source": [
        "get_candidate_df(20210407, 3).head()"
      ],
      "execution_count": null,
      "outputs": [
        {
          "output_type": "execute_result",
          "data": {
            "text/html": [
              "<div>\n",
              "<style scoped>\n",
              "    .dataframe tbody tr th:only-of-type {\n",
              "        vertical-align: middle;\n",
              "    }\n",
              "\n",
              "    .dataframe tbody tr th {\n",
              "        vertical-align: top;\n",
              "    }\n",
              "\n",
              "    .dataframe thead th {\n",
              "        text-align: right;\n",
              "    }\n",
              "</style>\n",
              "<table border=\"1\" class=\"dataframe\">\n",
              "  <thead>\n",
              "    <tr style=\"text-align: right;\">\n",
              "      <th></th>\n",
              "      <th>NUM</th>\n",
              "      <th>SG_ID</th>\n",
              "      <th>SG_TYPECODE</th>\n",
              "      <th>cnddtId</th>\n",
              "      <th>SGG_NAME</th>\n",
              "      <th>SD_NAME</th>\n",
              "      <th>WIW_NAME</th>\n",
              "      <th>GIHO</th>\n",
              "      <th>GIHO_SANGSE</th>\n",
              "      <th>partyName</th>\n",
              "      <th>NAME</th>\n",
              "      <th>HANJA_NAME</th>\n",
              "      <th>GENDER</th>\n",
              "      <th>BIRTHDAY</th>\n",
              "      <th>AGE</th>\n",
              "      <th>ADDR</th>\n",
              "      <th>JOB_ID</th>\n",
              "      <th>JOB</th>\n",
              "      <th>EDU_ID</th>\n",
              "      <th>EDU</th>\n",
              "      <th>CAREER1</th>\n",
              "      <th>CAREER2</th>\n",
              "      <th>STATUS</th>\n",
              "    </tr>\n",
              "  </thead>\n",
              "  <tbody>\n",
              "    <tr>\n",
              "      <th>0</th>\n",
              "      <td>1</td>\n",
              "      <td>20210407</td>\n",
              "      <td>3</td>\n",
              "      <td>100138295</td>\n",
              "      <td>서울특별시</td>\n",
              "      <td>서울특별시</td>\n",
              "      <td></td>\n",
              "      <td>1</td>\n",
              "      <td></td>\n",
              "      <td>더불어민주당</td>\n",
              "      <td>박영선</td>\n",
              "      <td>朴映宣</td>\n",
              "      <td>여</td>\n",
              "      <td>19600122</td>\n",
              "      <td>61</td>\n",
              "      <td>서울특별시 서대문구 연희로27나길</td>\n",
              "      <td>75</td>\n",
              "      <td>정당인</td>\n",
              "      <td>221</td>\n",
              "      <td>서강대학교 언론대학원 졸업 (문학석사)</td>\n",
              "      <td>(전) 중소벤처기업부 장관</td>\n",
              "      <td>(전) 17대,18대,19대,20대 국회의원</td>\n",
              "      <td>등록</td>\n",
              "    </tr>\n",
              "    <tr>\n",
              "      <th>1</th>\n",
              "      <td>2</td>\n",
              "      <td>20210407</td>\n",
              "      <td>3</td>\n",
              "      <td>100138272</td>\n",
              "      <td>서울특별시</td>\n",
              "      <td>서울특별시</td>\n",
              "      <td></td>\n",
              "      <td>2</td>\n",
              "      <td></td>\n",
              "      <td>국민의힘</td>\n",
              "      <td>오세훈</td>\n",
              "      <td>吳世勳</td>\n",
              "      <td>남</td>\n",
              "      <td>19610104</td>\n",
              "      <td>60</td>\n",
              "      <td>서울특별시 광진구 능동로4길</td>\n",
              "      <td>85</td>\n",
              "      <td>변호사</td>\n",
              "      <td>221</td>\n",
              "      <td>고려대학교 법학대학원 졸업(법학박사)</td>\n",
              "      <td>(전) 제33, 34대 서울특별시장</td>\n",
              "      <td>(전) 16대 국회의원</td>\n",
              "      <td>등록</td>\n",
              "    </tr>\n",
              "    <tr>\n",
              "      <th>2</th>\n",
              "      <td>3</td>\n",
              "      <td>20210407</td>\n",
              "      <td>3</td>\n",
              "      <td>100138291</td>\n",
              "      <td>서울특별시</td>\n",
              "      <td>서울특별시</td>\n",
              "      <td></td>\n",
              "      <td>4</td>\n",
              "      <td></td>\n",
              "      <td>국민의당</td>\n",
              "      <td>안철수</td>\n",
              "      <td>安哲秀</td>\n",
              "      <td>남</td>\n",
              "      <td>19620122</td>\n",
              "      <td>59</td>\n",
              "      <td>서울특별시 노원구 동일로242나길</td>\n",
              "      <td>75</td>\n",
              "      <td>정치인</td>\n",
              "      <td>221</td>\n",
              "      <td>서울대학교 대학원 의학박사</td>\n",
              "      <td>(전)제19대, 제20대 국회의원</td>\n",
              "      <td>(현)국민의당 대표</td>\n",
              "      <td>사퇴</td>\n",
              "    </tr>\n",
              "    <tr>\n",
              "      <th>3</th>\n",
              "      <td>4</td>\n",
              "      <td>20210407</td>\n",
              "      <td>3</td>\n",
              "      <td>100138218</td>\n",
              "      <td>서울특별시</td>\n",
              "      <td>서울특별시</td>\n",
              "      <td></td>\n",
              "      <td>6</td>\n",
              "      <td></td>\n",
              "      <td>기본소득당</td>\n",
              "      <td>신지혜</td>\n",
              "      <td>申智惠</td>\n",
              "      <td>여</td>\n",
              "      <td>19871022</td>\n",
              "      <td>33</td>\n",
              "      <td>서울특별시 은평구 통일로72길</td>\n",
              "      <td>75</td>\n",
              "      <td>정당인</td>\n",
              "      <td>68</td>\n",
              "      <td>이화여자대학교 사회학과 졸업(복수전공 : 여성학)</td>\n",
              "      <td>(현)기본소득당 상임대표</td>\n",
              "      <td>(전)포이동 인연공부방 교사</td>\n",
              "      <td>등록</td>\n",
              "    </tr>\n",
              "    <tr>\n",
              "      <th>4</th>\n",
              "      <td>5</td>\n",
              "      <td>20210407</td>\n",
              "      <td>3</td>\n",
              "      <td>100138226</td>\n",
              "      <td>서울특별시</td>\n",
              "      <td>서울특별시</td>\n",
              "      <td></td>\n",
              "      <td>7</td>\n",
              "      <td></td>\n",
              "      <td>국가혁명당</td>\n",
              "      <td>허경영</td>\n",
              "      <td>許京寧</td>\n",
              "      <td>남</td>\n",
              "      <td>19470713</td>\n",
              "      <td>73</td>\n",
              "      <td>서울특별시 종로구 북촌로5나길</td>\n",
              "      <td>225</td>\n",
              "      <td>강연업</td>\n",
              "      <td>68</td>\n",
              "      <td>한국방송통신대학교 법학과 법학사</td>\n",
              "      <td>(전)15, 17대 대통령 후보 출마</td>\n",
              "      <td>(현)국가혁명당 명예대표</td>\n",
              "      <td>등록</td>\n",
              "    </tr>\n",
              "  </tbody>\n",
              "</table>\n",
              "</div>"
            ],
            "text/plain": [
              "  NUM     SG_ID  ...                   CAREER2 STATUS\n",
              "0   1  20210407  ...  (전) 17대,18대,19대,20대 국회의원     등록\n",
              "1   2  20210407  ...              (전) 16대 국회의원     등록\n",
              "2   3  20210407  ...                (현)국민의당 대표     사퇴\n",
              "3   4  20210407  ...           (전)포이동 인연공부방 교사     등록\n",
              "4   5  20210407  ...             (현)국가혁명당 명예대표     등록\n",
              "\n",
              "[5 rows x 23 columns]"
            ]
          },
          "metadata": {
            "tags": []
          },
          "execution_count": 27
        }
      ]
    },
    {
      "cell_type": "markdown",
      "metadata": {
        "id": "hXaHifpRbLZL"
      },
      "source": [
        "## Promise load"
      ]
    },
    {
      "cell_type": "code",
      "metadata": {
        "colab": {
          "base_uri": "https://localhost:8080/",
          "height": 304
        },
        "id": "2KMcyop2slIr",
        "outputId": "5857c083-4698-4e03-8876-63a0c1bf3d2d"
      },
      "source": [
        "# 당선인이 나온 후엔 당선인 공약만 확인 가능\n",
        "data = get_promise_df(20210407, 3, 100138272)\n",
        "data"
      ],
      "execution_count": null,
      "outputs": [
        {
          "output_type": "execute_result",
          "data": {
            "text/html": [
              "<div>\n",
              "<style scoped>\n",
              "    .dataframe tbody tr th:only-of-type {\n",
              "        vertical-align: middle;\n",
              "    }\n",
              "\n",
              "    .dataframe tbody tr th {\n",
              "        vertical-align: top;\n",
              "    }\n",
              "\n",
              "    .dataframe thead th {\n",
              "        text-align: right;\n",
              "    }\n",
              "</style>\n",
              "<table border=\"1\" class=\"dataframe\">\n",
              "  <thead>\n",
              "    <tr style=\"text-align: right;\">\n",
              "      <th></th>\n",
              "      <th>num</th>\n",
              "      <th>sgId</th>\n",
              "      <th>sgTypecode</th>\n",
              "      <th>cnddtId</th>\n",
              "      <th>sggName</th>\n",
              "      <th>sidoName</th>\n",
              "      <th>wiwName</th>\n",
              "      <th>partyName</th>\n",
              "      <th>krName</th>\n",
              "      <th>cnName</th>\n",
              "      <th>prmsCnt</th>\n",
              "      <th>prmsOrd1</th>\n",
              "      <th>prmsRealmName1</th>\n",
              "      <th>prmsTitle1</th>\n",
              "      <th>prmmCont1</th>\n",
              "      <th>prmsOrd2</th>\n",
              "      <th>prmsRealmName2</th>\n",
              "      <th>prmsTitle2</th>\n",
              "      <th>prmmCont2</th>\n",
              "      <th>prmsOrd3</th>\n",
              "      <th>prmsRealmName3</th>\n",
              "      <th>prmsTitle3</th>\n",
              "      <th>prmmCont3</th>\n",
              "      <th>prmsOrd4</th>\n",
              "      <th>prmsRealmName4</th>\n",
              "      <th>prmsTitle4</th>\n",
              "      <th>prmmCont4</th>\n",
              "      <th>prmsOrd5</th>\n",
              "      <th>prmsRealmName5</th>\n",
              "      <th>prmsTitle5</th>\n",
              "      <th>prmmCont5</th>\n",
              "      <th>prmsOrd6</th>\n",
              "      <th>prmsRealmName6</th>\n",
              "      <th>prmsTitle6</th>\n",
              "      <th>prmmCont6</th>\n",
              "      <th>prmsOrd7</th>\n",
              "      <th>prmsRealmName7</th>\n",
              "      <th>prmsTitle7</th>\n",
              "      <th>prmmCont7</th>\n",
              "      <th>prmsOrd8</th>\n",
              "      <th>prmsRealmName8</th>\n",
              "      <th>prmsTitle8</th>\n",
              "      <th>prmmCont8</th>\n",
              "      <th>prmsOrd9</th>\n",
              "      <th>prmsRealmName9</th>\n",
              "      <th>prmsTitle9</th>\n",
              "      <th>prmmCont9</th>\n",
              "      <th>prmsOrd10</th>\n",
              "      <th>prmsRealmName10</th>\n",
              "      <th>prmsTitle10</th>\n",
              "      <th>prmmCont10</th>\n",
              "    </tr>\n",
              "  </thead>\n",
              "  <tbody>\n",
              "    <tr>\n",
              "      <th>0</th>\n",
              "      <td>1</td>\n",
              "      <td>20210407</td>\n",
              "      <td>3</td>\n",
              "      <td>100138272</td>\n",
              "      <td>서울특별시</td>\n",
              "      <td>서울특별시</td>\n",
              "      <td></td>\n",
              "      <td>국민의힘</td>\n",
              "      <td>오세훈</td>\n",
              "      <td>吳世勳</td>\n",
              "      <td>5</td>\n",
              "      <td>1</td>\n",
              "      <td></td>\n",
              "      <td>스피드 주택공급</td>\n",
              "      <td>□ 목 표\\n  ○ 주택공급 활성화로 부동산 시장 안정화\\n \\n□ 이행방법\\n  ○ 1년내 서울시 도시계획규제 혁파 \\n    - 서울시 용적률 규제완화(주거지역 용적률 ...</td>\n",
              "      <td>2</td>\n",
              "      <td></td>\n",
              "      <td>스피드 교통</td>\n",
              "      <td>□  목 표\\n  ○ 교통소외지역 연결 및 편의증대\\n   \\n□  이행방법\\n  ○ 1년내 시민불편공사 완료\\n    - 다리공사 국내 최장기록(11년4개월) 달성한 월드...</td>\n",
              "      <td>3</td>\n",
              "      <td></td>\n",
              "      <td>균형발전 서울</td>\n",
              "      <td>□  목 표\\n  ○ 동북권, 서남권, 서북권 등 권역별 일자리, 상업, 교통, 교육 등 핵심시설을 유치하여 지역균형발전 달성 \\n \\n□  이행방법\\n  ○  서북권: 신...</td>\n",
              "      <td>4</td>\n",
              "      <td></td>\n",
              "      <td>1인가구 안심특별대책본부 설치</td>\n",
              "      <td>□  목 표\\n  ○  안전, 질병, 빈곤(저소득), 외로움(우울), 주거 등 1인가구 5대 불안해소\\n    \\n□  이행방법\\n  ○ 시장 직속 임시조직 : 조례 개정,...</td>\n",
              "      <td>5</td>\n",
              "      <td></td>\n",
              "      <td>청춘이 밥 먹여준다!</td>\n",
              "      <td>□  목 표\\n  ○ 취업교육, 취업과 창업, 자산형성, 내집마련으로 이어지는 실질적이고 전방위적인 터널탈출 프로젝트\\n \\n□  이행방법\\n  ○ 4차산업형 청년 취업사관...</td>\n",
              "      <td></td>\n",
              "      <td></td>\n",
              "      <td></td>\n",
              "      <td></td>\n",
              "      <td></td>\n",
              "      <td></td>\n",
              "      <td></td>\n",
              "      <td></td>\n",
              "      <td></td>\n",
              "      <td></td>\n",
              "      <td></td>\n",
              "      <td></td>\n",
              "      <td></td>\n",
              "      <td></td>\n",
              "      <td></td>\n",
              "      <td></td>\n",
              "      <td></td>\n",
              "      <td></td>\n",
              "      <td></td>\n",
              "      <td></td>\n",
              "    </tr>\n",
              "  </tbody>\n",
              "</table>\n",
              "</div>"
            ],
            "text/plain": [
              "  num      sgId sgTypecode  ... prmsRealmName10 prmsTitle10 prmmCont10\n",
              "0   1  20210407          3  ...                                       \n",
              "\n",
              "[1 rows x 51 columns]"
            ]
          },
          "metadata": {
            "tags": []
          },
          "execution_count": 12
        }
      ]
    },
    {
      "cell_type": "code",
      "metadata": {
        "colab": {
          "base_uri": "https://localhost:8080/"
        },
        "id": "Gcy_Yk7hEV_g",
        "outputId": "820b1b69-d8c9-4622-966f-779dac281810"
      },
      "source": [
        "data['prmmCont1']"
      ],
      "execution_count": null,
      "outputs": [
        {
          "output_type": "execute_result",
          "data": {
            "text/plain": [
              "0    □ 목 표\\n  ○ 주택공급 활성화로 부동산 시장 안정화\\n \\n□ 이행방법\\n  ○ 1년내 서울시 도시계획규제 혁파 \\n    - 서울시 용적률 규제완화(주거지역 용적률 ...\n",
              "Name: prmmCont1, dtype: object"
            ]
          },
          "metadata": {
            "tags": []
          },
          "execution_count": 13
        }
      ]
    },
    {
      "cell_type": "markdown",
      "metadata": {
        "id": "WYaI_AsreC6S"
      },
      "source": [
        "## Poll info load"
      ]
    },
    {
      "cell_type": "markdown",
      "metadata": {
        "id": "DlJd83g1eHnc"
      },
      "source": [
        "### Pre poll info load"
      ]
    },
    {
      "cell_type": "code",
      "metadata": {
        "colab": {
          "base_uri": "https://localhost:8080/",
          "height": 204
        },
        "id": "s66klLK4syWc",
        "outputId": "62739be0-c1e6-429e-c08a-09ba27ca246c"
      },
      "source": [
        "get_prepoll_df(20210407, '서울특별시').head()"
      ],
      "execution_count": null,
      "outputs": [
        {
          "output_type": "execute_result",
          "data": {
            "text/html": [
              "<div>\n",
              "<style scoped>\n",
              "    .dataframe tbody tr th:only-of-type {\n",
              "        vertical-align: middle;\n",
              "    }\n",
              "\n",
              "    .dataframe tbody tr th {\n",
              "        vertical-align: top;\n",
              "    }\n",
              "\n",
              "    .dataframe thead th {\n",
              "        text-align: right;\n",
              "    }\n",
              "</style>\n",
              "<table border=\"1\" class=\"dataframe\">\n",
              "  <thead>\n",
              "    <tr style=\"text-align: right;\">\n",
              "      <th></th>\n",
              "      <th>NUM</th>\n",
              "      <th>SG_ID</th>\n",
              "      <th>EV_PS_NAME</th>\n",
              "      <th>SD_NAME</th>\n",
              "      <th>WIW_NAME</th>\n",
              "      <th>EMD_NAME</th>\n",
              "      <th>EV_ORDER</th>\n",
              "      <th>PLACE_NAME</th>\n",
              "      <th>ADDR</th>\n",
              "      <th>FLOOR</th>\n",
              "    </tr>\n",
              "  </thead>\n",
              "  <tbody>\n",
              "    <tr>\n",
              "      <th>0</th>\n",
              "      <td>1</td>\n",
              "      <td>20210407</td>\n",
              "      <td>가락1동사전투표소</td>\n",
              "      <td>서울특별시</td>\n",
              "      <td>송파구</td>\n",
              "      <td>가락1동</td>\n",
              "      <td>1</td>\n",
              "      <td>가락1동주민센터(3층, 대강당)</td>\n",
              "      <td>서울특별시 송파구 양재대로 925 (가락동)</td>\n",
              "      <td>3층</td>\n",
              "    </tr>\n",
              "    <tr>\n",
              "      <th>1</th>\n",
              "      <td>2</td>\n",
              "      <td>20210407</td>\n",
              "      <td>가락2동사전투표소</td>\n",
              "      <td>서울특별시</td>\n",
              "      <td>송파구</td>\n",
              "      <td>가락2동</td>\n",
              "      <td>1</td>\n",
              "      <td>가락2동주민센터(2층, 다목적실)</td>\n",
              "      <td>서울특별시 송파구 중대로20길 6 (가락동)</td>\n",
              "      <td>2층</td>\n",
              "    </tr>\n",
              "    <tr>\n",
              "      <th>2</th>\n",
              "      <td>3</td>\n",
              "      <td>20210407</td>\n",
              "      <td>가락본동사전투표소</td>\n",
              "      <td>서울특별시</td>\n",
              "      <td>송파구</td>\n",
              "      <td>가락본동</td>\n",
              "      <td>1</td>\n",
              "      <td>가락본동주민센터(2층, 다목적방)</td>\n",
              "      <td>서울특별시 송파구 송파대로28길 39 (가락동)</td>\n",
              "      <td>2층</td>\n",
              "    </tr>\n",
              "    <tr>\n",
              "      <th>3</th>\n",
              "      <td>4</td>\n",
              "      <td>20210407</td>\n",
              "      <td>가리봉동사전투표소</td>\n",
              "      <td>서울특별시</td>\n",
              "      <td>구로구</td>\n",
              "      <td>가리봉동</td>\n",
              "      <td>1</td>\n",
              "      <td>가리봉동주민센터(1층, 회의실)</td>\n",
              "      <td>서울특별시 구로구 우마2길 35 (가리봉동)</td>\n",
              "      <td>1층</td>\n",
              "    </tr>\n",
              "    <tr>\n",
              "      <th>4</th>\n",
              "      <td>5</td>\n",
              "      <td>20210407</td>\n",
              "      <td>가산동사전투표소</td>\n",
              "      <td>서울특별시</td>\n",
              "      <td>금천구</td>\n",
              "      <td>가산동</td>\n",
              "      <td>1</td>\n",
              "      <td>가산동주민센터 문화관람실(2층)</td>\n",
              "      <td>서울특별시 금천구 가산로 129 (가산동)</td>\n",
              "      <td>2층</td>\n",
              "    </tr>\n",
              "  </tbody>\n",
              "</table>\n",
              "</div>"
            ],
            "text/plain": [
              "  NUM     SG_ID  ...                        ADDR FLOOR\n",
              "0   1  20210407  ...    서울특별시 송파구 양재대로 925 (가락동)    3층\n",
              "1   2  20210407  ...    서울특별시 송파구 중대로20길 6 (가락동)    2층\n",
              "2   3  20210407  ...  서울특별시 송파구 송파대로28길 39 (가락동)    2층\n",
              "3   4  20210407  ...    서울특별시 구로구 우마2길 35 (가리봉동)    1층\n",
              "4   5  20210407  ...     서울특별시 금천구 가산로 129 (가산동)    2층\n",
              "\n",
              "[5 rows x 10 columns]"
            ]
          },
          "metadata": {
            "tags": []
          },
          "execution_count": 18
        }
      ]
    },
    {
      "cell_type": "markdown",
      "metadata": {
        "id": "EbTMggTYf1ai"
      },
      "source": [
        "### Main poll info load"
      ]
    },
    {
      "cell_type": "code",
      "metadata": {
        "colab": {
          "base_uri": "https://localhost:8080/",
          "height": 204
        },
        "id": "xLQivWw6sy7y",
        "outputId": "237f26da-e395-4e98-fd0a-cbe6e82231ec"
      },
      "source": [
        "get_mainpoll_df(20210407, '서울특별시').head()"
      ],
      "execution_count": null,
      "outputs": [
        {
          "output_type": "execute_result",
          "data": {
            "text/html": [
              "<div>\n",
              "<style scoped>\n",
              "    .dataframe tbody tr th:only-of-type {\n",
              "        vertical-align: middle;\n",
              "    }\n",
              "\n",
              "    .dataframe tbody tr th {\n",
              "        vertical-align: top;\n",
              "    }\n",
              "\n",
              "    .dataframe thead th {\n",
              "        text-align: right;\n",
              "    }\n",
              "</style>\n",
              "<table border=\"1\" class=\"dataframe\">\n",
              "  <thead>\n",
              "    <tr style=\"text-align: right;\">\n",
              "      <th></th>\n",
              "      <th>NUM</th>\n",
              "      <th>SG_ID</th>\n",
              "      <th>PS_NAME</th>\n",
              "      <th>SD_NAME</th>\n",
              "      <th>WIW_NAME</th>\n",
              "      <th>EMD_NAME</th>\n",
              "      <th>PLACE_NAME</th>\n",
              "      <th>ADDR</th>\n",
              "      <th>FLOOR</th>\n",
              "    </tr>\n",
              "  </thead>\n",
              "  <tbody>\n",
              "    <tr>\n",
              "      <th>0</th>\n",
              "      <td>1</td>\n",
              "      <td>20210407</td>\n",
              "      <td>청룡동제1투</td>\n",
              "      <td>서울특별시</td>\n",
              "      <td>관악구</td>\n",
              "      <td>청룡동</td>\n",
              "      <td>봉림중학교(1층, 무용실)</td>\n",
              "      <td>서울특별시 관악구 장군봉길 72 (봉천동)</td>\n",
              "      <td>1층</td>\n",
              "    </tr>\n",
              "    <tr>\n",
              "      <th>1</th>\n",
              "      <td>2</td>\n",
              "      <td>20210407</td>\n",
              "      <td>청림동제1투</td>\n",
              "      <td>서울특별시</td>\n",
              "      <td>관악구</td>\n",
              "      <td>청림동</td>\n",
              "      <td>청림동주민센터(1층, 주차장)</td>\n",
              "      <td>서울특별시 관악구 관악로40길 39 (봉천동)</td>\n",
              "      <td>1층</td>\n",
              "    </tr>\n",
              "    <tr>\n",
              "      <th>2</th>\n",
              "      <td>3</td>\n",
              "      <td>20210407</td>\n",
              "      <td>청운효자동제1투</td>\n",
              "      <td>서울특별시</td>\n",
              "      <td>종로구</td>\n",
              "      <td>청운효자동</td>\n",
              "      <td>청운초등학교(2층, 체육관)</td>\n",
              "      <td>서울특별시 종로구 자하문로 105 (청운동)</td>\n",
              "      <td>2층</td>\n",
              "    </tr>\n",
              "    <tr>\n",
              "      <th>3</th>\n",
              "      <td>4</td>\n",
              "      <td>20210407</td>\n",
              "      <td>청파동제1투</td>\n",
              "      <td>서울특별시</td>\n",
              "      <td>용산구</td>\n",
              "      <td>청파동</td>\n",
              "      <td>청파도서관·청파동자치회관 별관(3층, 대강당)</td>\n",
              "      <td>서울특별시 용산구 청파로93길 27 (서계동)</td>\n",
              "      <td>3층이상</td>\n",
              "    </tr>\n",
              "    <tr>\n",
              "      <th>4</th>\n",
              "      <td>5</td>\n",
              "      <td>20210407</td>\n",
              "      <td>충현동제1투</td>\n",
              "      <td>서울특별시</td>\n",
              "      <td>서대문구</td>\n",
              "      <td>충현동</td>\n",
              "      <td>충현동주민센터(2층, 대회의실)</td>\n",
              "      <td>서울특별시 서대문구 북아현로22길 38 (북아현동)</td>\n",
              "      <td>2층</td>\n",
              "    </tr>\n",
              "  </tbody>\n",
              "</table>\n",
              "</div>"
            ],
            "text/plain": [
              "  NUM     SG_ID  ...                          ADDR FLOOR\n",
              "0   1  20210407  ...       서울특별시 관악구 장군봉길 72 (봉천동)    1층\n",
              "1   2  20210407  ...     서울특별시 관악구 관악로40길 39 (봉천동)    1층\n",
              "2   3  20210407  ...      서울특별시 종로구 자하문로 105 (청운동)    2층\n",
              "3   4  20210407  ...     서울특별시 용산구 청파로93길 27 (서계동)  3층이상\n",
              "4   5  20210407  ...  서울특별시 서대문구 북아현로22길 38 (북아현동)    2층\n",
              "\n",
              "[5 rows x 9 columns]"
            ]
          },
          "metadata": {
            "tags": []
          },
          "execution_count": 19
        }
      ]
    },
    {
      "cell_type": "markdown",
      "metadata": {
        "id": "nO-tL7UKgWVb"
      },
      "source": [
        "# Data Preprocessing"
      ]
    },
    {
      "cell_type": "markdown",
      "metadata": {
        "id": "_JJOE5dcgbw3"
      },
      "source": [
        "## election_code data preprocessing"
      ]
    },
    {
      "cell_type": "code",
      "metadata": {
        "id": "Ot2m8EDOpru9"
      },
      "source": [
        "def election_code_preprocessing():\n",
        "  data = get_election_df()\n",
        "  data = data.drop('NUM', axis=1)\n",
        "  data.columns = ['sgId', 'sgName', 'sgTypecode', 'sgVotedate']\n",
        "  election_code = data\n",
        "  election_code = election_code.astype({'sgId':int, 'sgTypecode':int, 'sgName':str})\n",
        "  election_code.set_index('sgId', inplace=True)\n",
        "\n",
        "  return election_code"
      ],
      "execution_count": 96,
      "outputs": []
    },
    {
      "cell_type": "code",
      "metadata": {
        "id": "qwkt7b_XnxTJ"
      },
      "source": [
        "election_code = election_code_preprocessing()\n",
        "data = election_code.reset_index()"
      ],
      "execution_count": 113,
      "outputs": []
    },
    {
      "cell_type": "code",
      "metadata": {
        "colab": {
          "base_uri": "https://localhost:8080/",
          "height": 235
        },
        "id": "SQ0veMA5qT_V",
        "outputId": "c13a0970-3aee-4f82-c373-6beba394c635"
      },
      "source": [
        "election_code.head()"
      ],
      "execution_count": 114,
      "outputs": [
        {
          "output_type": "execute_result",
          "data": {
            "text/html": [
              "<div>\n",
              "<style scoped>\n",
              "    .dataframe tbody tr th:only-of-type {\n",
              "        vertical-align: middle;\n",
              "    }\n",
              "\n",
              "    .dataframe tbody tr th {\n",
              "        vertical-align: top;\n",
              "    }\n",
              "\n",
              "    .dataframe thead th {\n",
              "        text-align: right;\n",
              "    }\n",
              "</style>\n",
              "<table border=\"1\" class=\"dataframe\">\n",
              "  <thead>\n",
              "    <tr style=\"text-align: right;\">\n",
              "      <th></th>\n",
              "      <th>sgName</th>\n",
              "      <th>sgTypecode</th>\n",
              "      <th>sgVotedate</th>\n",
              "    </tr>\n",
              "    <tr>\n",
              "      <th>sgId</th>\n",
              "      <th></th>\n",
              "      <th></th>\n",
              "      <th></th>\n",
              "    </tr>\n",
              "  </thead>\n",
              "  <tbody>\n",
              "    <tr>\n",
              "      <th>20160413</th>\n",
              "      <td>제20대 국회의원선거</td>\n",
              "      <td>0</td>\n",
              "      <td>20160413</td>\n",
              "    </tr>\n",
              "    <tr>\n",
              "      <th>20160413</th>\n",
              "      <td>국회의원선거</td>\n",
              "      <td>2</td>\n",
              "      <td>20160413</td>\n",
              "    </tr>\n",
              "    <tr>\n",
              "      <th>20160413</th>\n",
              "      <td>구·시·군의장선거</td>\n",
              "      <td>4</td>\n",
              "      <td>20160413</td>\n",
              "    </tr>\n",
              "    <tr>\n",
              "      <th>20160413</th>\n",
              "      <td>시·도의회의원선거</td>\n",
              "      <td>5</td>\n",
              "      <td>20160413</td>\n",
              "    </tr>\n",
              "    <tr>\n",
              "      <th>20160413</th>\n",
              "      <td>구·시·군의회의원선거</td>\n",
              "      <td>6</td>\n",
              "      <td>20160413</td>\n",
              "    </tr>\n",
              "  </tbody>\n",
              "</table>\n",
              "</div>"
            ],
            "text/plain": [
              "               sgName  sgTypecode sgVotedate\n",
              "sgId                                        \n",
              "20160413  제20대 국회의원선거           0   20160413\n",
              "20160413       국회의원선거           2   20160413\n",
              "20160413    구·시·군의장선거           4   20160413\n",
              "20160413    시·도의회의원선거           5   20160413\n",
              "20160413  구·시·군의회의원선거           6   20160413"
            ]
          },
          "metadata": {
            "tags": []
          },
          "execution_count": 114
        }
      ]
    },
    {
      "cell_type": "markdown",
      "metadata": {
        "id": "xvClsGOdovh7"
      },
      "source": [
        "## Candidate data preprocessing"
      ]
    },
    {
      "cell_type": "code",
      "metadata": {
        "colab": {
          "base_uri": "https://localhost:8080/",
          "height": 204
        },
        "id": "hArzvdMqpnLS",
        "outputId": "6edc7588-f154-47c9-9f75-4648863cf89b"
      },
      "source": [
        "election_data = data[['sgId', 'sgTypecode']]\n",
        "election_data.head()"
      ],
      "execution_count": 117,
      "outputs": [
        {
          "output_type": "execute_result",
          "data": {
            "text/html": [
              "<div>\n",
              "<style scoped>\n",
              "    .dataframe tbody tr th:only-of-type {\n",
              "        vertical-align: middle;\n",
              "    }\n",
              "\n",
              "    .dataframe tbody tr th {\n",
              "        vertical-align: top;\n",
              "    }\n",
              "\n",
              "    .dataframe thead th {\n",
              "        text-align: right;\n",
              "    }\n",
              "</style>\n",
              "<table border=\"1\" class=\"dataframe\">\n",
              "  <thead>\n",
              "    <tr style=\"text-align: right;\">\n",
              "      <th></th>\n",
              "      <th>sgId</th>\n",
              "      <th>sgTypecode</th>\n",
              "    </tr>\n",
              "  </thead>\n",
              "  <tbody>\n",
              "    <tr>\n",
              "      <th>0</th>\n",
              "      <td>20160413</td>\n",
              "      <td>0</td>\n",
              "    </tr>\n",
              "    <tr>\n",
              "      <th>1</th>\n",
              "      <td>20160413</td>\n",
              "      <td>2</td>\n",
              "    </tr>\n",
              "    <tr>\n",
              "      <th>2</th>\n",
              "      <td>20160413</td>\n",
              "      <td>4</td>\n",
              "    </tr>\n",
              "    <tr>\n",
              "      <th>3</th>\n",
              "      <td>20160413</td>\n",
              "      <td>5</td>\n",
              "    </tr>\n",
              "    <tr>\n",
              "      <th>4</th>\n",
              "      <td>20160413</td>\n",
              "      <td>6</td>\n",
              "    </tr>\n",
              "  </tbody>\n",
              "</table>\n",
              "</div>"
            ],
            "text/plain": [
              "       sgId  sgTypecode\n",
              "0  20160413           0\n",
              "1  20160413           2\n",
              "2  20160413           4\n",
              "3  20160413           5\n",
              "4  20160413           6"
            ]
          },
          "metadata": {
            "tags": []
          },
          "execution_count": 117
        }
      ]
    },
    {
      "cell_type": "markdown",
      "metadata": {
        "id": "5mX8AVnHx28Z"
      },
      "source": [
        "### Concat the all candidate df"
      ]
    },
    {
      "cell_type": "code",
      "metadata": {
        "id": "7nb4HvZVpMcM"
      },
      "source": [
        "candidate_df = pd.DataFrame()\n",
        "\n",
        "for i in range(len(election_data)):\n",
        "  curr_id = election_data['sgId'][i]\n",
        "  curr_code = election_data['sgTypecode'][i]\n",
        "  curr_df = pd.DataFrame()\n",
        "\n",
        "  if curr_code != 0:\n",
        "    curr_df = get_candidate_df(curr_id, curr_code)\n",
        "  \n",
        "  candidate_df = pd.concat([candidate_df, curr_df], ignore_index=True)"
      ],
      "execution_count": 153,
      "outputs": []
    },
    {
      "cell_type": "code",
      "metadata": {
        "id": "4BkPO1KRwn0M"
      },
      "source": [
        "cand_age = candidate_df['AGE']\n",
        "candidate = candidate_df.drop(['NUM', 'GIHO_SANGSE', 'HANJA_NAME', 'JOB_ID', 'EDU_ID', 'EDU', 'CAREER1', 'CAREER2', 'partyName', 'AGE'], axis=1)"
      ],
      "execution_count": 185,
      "outputs": []
    },
    {
      "cell_type": "code",
      "metadata": {
        "id": "yAq_ybTTz34s"
      },
      "source": [
        "candidate.columns = ['sgId', 'sgTypecode', 'cnddtId', 'sggName', 'sdName', 'wiwName', 'giho', 'name', 'gender', 'birthday','address', 'job', 'status']"
      ],
      "execution_count": 186,
      "outputs": []
    },
    {
      "cell_type": "code",
      "metadata": {
        "colab": {
          "base_uri": "https://localhost:8080/",
          "height": 204
        },
        "id": "lbT3CPfPvXJ9",
        "outputId": "76c33787-5ced-4a0f-b998-7df9d0269f43"
      },
      "source": [
        "candidate.tail()"
      ],
      "execution_count": 187,
      "outputs": [
        {
          "output_type": "execute_result",
          "data": {
            "text/html": [
              "<div>\n",
              "<style scoped>\n",
              "    .dataframe tbody tr th:only-of-type {\n",
              "        vertical-align: middle;\n",
              "    }\n",
              "\n",
              "    .dataframe tbody tr th {\n",
              "        vertical-align: top;\n",
              "    }\n",
              "\n",
              "    .dataframe thead th {\n",
              "        text-align: right;\n",
              "    }\n",
              "</style>\n",
              "<table border=\"1\" class=\"dataframe\">\n",
              "  <thead>\n",
              "    <tr style=\"text-align: right;\">\n",
              "      <th></th>\n",
              "      <th>sgId</th>\n",
              "      <th>sgTypecode</th>\n",
              "      <th>cnddtId</th>\n",
              "      <th>sggName</th>\n",
              "      <th>sdName</th>\n",
              "      <th>wiwName</th>\n",
              "      <th>giho</th>\n",
              "      <th>name</th>\n",
              "      <th>gender</th>\n",
              "      <th>birthday</th>\n",
              "      <th>address</th>\n",
              "      <th>job</th>\n",
              "      <th>status</th>\n",
              "    </tr>\n",
              "  </thead>\n",
              "  <tbody>\n",
              "    <tr>\n",
              "      <th>6966</th>\n",
              "      <td>20210407</td>\n",
              "      <td>6</td>\n",
              "      <td>100138297</td>\n",
              "      <td>보성군다선거구</td>\n",
              "      <td>전라남도</td>\n",
              "      <td>보성군</td>\n",
              "      <td>7</td>\n",
              "      <td>윤정재</td>\n",
              "      <td>남</td>\n",
              "      <td>19690412</td>\n",
              "      <td>전라남도 보성군 복내면 송재로</td>\n",
              "      <td>자영업</td>\n",
              "      <td>등록</td>\n",
              "    </tr>\n",
              "    <tr>\n",
              "      <th>6967</th>\n",
              "      <td>20210407</td>\n",
              "      <td>6</td>\n",
              "      <td>100138344</td>\n",
              "      <td>의령군다선거구</td>\n",
              "      <td>경상남도</td>\n",
              "      <td>의령군</td>\n",
              "      <td>2</td>\n",
              "      <td>차성길</td>\n",
              "      <td>남</td>\n",
              "      <td>19610519</td>\n",
              "      <td>경상남도 의령군 정곡면 법정로8길</td>\n",
              "      <td>무직</td>\n",
              "      <td>등록</td>\n",
              "    </tr>\n",
              "    <tr>\n",
              "      <th>6968</th>\n",
              "      <td>20210407</td>\n",
              "      <td>6</td>\n",
              "      <td>100138337</td>\n",
              "      <td>의령군다선거구</td>\n",
              "      <td>경상남도</td>\n",
              "      <td>의령군</td>\n",
              "      <td>6</td>\n",
              "      <td>윤병열</td>\n",
              "      <td>남</td>\n",
              "      <td>19590514</td>\n",
              "      <td>경상남도 의령군 지정면 함의로</td>\n",
              "      <td>농업</td>\n",
              "      <td>등록</td>\n",
              "    </tr>\n",
              "    <tr>\n",
              "      <th>6969</th>\n",
              "      <td>20210407</td>\n",
              "      <td>6</td>\n",
              "      <td>100138310</td>\n",
              "      <td>함안군다선거구</td>\n",
              "      <td>경상남도</td>\n",
              "      <td>함안군</td>\n",
              "      <td>1</td>\n",
              "      <td>조호기</td>\n",
              "      <td>남</td>\n",
              "      <td>19740911</td>\n",
              "      <td>경상남도 함안군 칠원읍 삼호길</td>\n",
              "      <td>자영업</td>\n",
              "      <td>등록</td>\n",
              "    </tr>\n",
              "    <tr>\n",
              "      <th>6970</th>\n",
              "      <td>20210407</td>\n",
              "      <td>6</td>\n",
              "      <td>100138289</td>\n",
              "      <td>함안군다선거구</td>\n",
              "      <td>경상남도</td>\n",
              "      <td>함안군</td>\n",
              "      <td>2</td>\n",
              "      <td>황철용</td>\n",
              "      <td>남</td>\n",
              "      <td>19670328</td>\n",
              "      <td>경상남도 함안군 칠원읍 경남대로</td>\n",
              "      <td>농업인</td>\n",
              "      <td>등록</td>\n",
              "    </tr>\n",
              "  </tbody>\n",
              "</table>\n",
              "</div>"
            ],
            "text/plain": [
              "          sgId sgTypecode    cnddtId  ...             address  job status\n",
              "6966  20210407          6  100138297  ...    전라남도 보성군 복내면 송재로  자영업     등록\n",
              "6967  20210407          6  100138344  ...  경상남도 의령군 정곡면 법정로8길   무직     등록\n",
              "6968  20210407          6  100138337  ...    경상남도 의령군 지정면 함의로   농업     등록\n",
              "6969  20210407          6  100138310  ...    경상남도 함안군 칠원읍 삼호길  자영업     등록\n",
              "6970  20210407          6  100138289  ...   경상남도 함안군 칠원읍 경남대로  농업인     등록\n",
              "\n",
              "[5 rows x 13 columns]"
            ]
          },
          "metadata": {
            "tags": []
          },
          "execution_count": 187
        }
      ]
    },
    {
      "cell_type": "code",
      "metadata": {
        "colab": {
          "base_uri": "https://localhost:8080/",
          "height": 204
        },
        "id": "jo61QZdQzvWE",
        "outputId": "6028e2b6-8cb6-4116-c02d-a0c402acdd96"
      },
      "source": [
        "le = LabelEncoder()\n",
        "\n",
        "for category in ['gender', 'status']:\n",
        "  candidate[category] = le.fit_transform(candidate[category])\n",
        "\n",
        "candidate.tail()"
      ],
      "execution_count": 189,
      "outputs": [
        {
          "output_type": "execute_result",
          "data": {
            "text/html": [
              "<div>\n",
              "<style scoped>\n",
              "    .dataframe tbody tr th:only-of-type {\n",
              "        vertical-align: middle;\n",
              "    }\n",
              "\n",
              "    .dataframe tbody tr th {\n",
              "        vertical-align: top;\n",
              "    }\n",
              "\n",
              "    .dataframe thead th {\n",
              "        text-align: right;\n",
              "    }\n",
              "</style>\n",
              "<table border=\"1\" class=\"dataframe\">\n",
              "  <thead>\n",
              "    <tr style=\"text-align: right;\">\n",
              "      <th></th>\n",
              "      <th>sgId</th>\n",
              "      <th>sgTypecode</th>\n",
              "      <th>cnddtId</th>\n",
              "      <th>sggName</th>\n",
              "      <th>sdName</th>\n",
              "      <th>wiwName</th>\n",
              "      <th>giho</th>\n",
              "      <th>name</th>\n",
              "      <th>gender</th>\n",
              "      <th>birthday</th>\n",
              "      <th>address</th>\n",
              "      <th>job</th>\n",
              "      <th>status</th>\n",
              "    </tr>\n",
              "  </thead>\n",
              "  <tbody>\n",
              "    <tr>\n",
              "      <th>6966</th>\n",
              "      <td>20210407</td>\n",
              "      <td>6</td>\n",
              "      <td>100138297</td>\n",
              "      <td>보성군다선거구</td>\n",
              "      <td>전라남도</td>\n",
              "      <td>보성군</td>\n",
              "      <td>7</td>\n",
              "      <td>윤정재</td>\n",
              "      <td>0</td>\n",
              "      <td>19690412</td>\n",
              "      <td>전라남도 보성군 복내면 송재로</td>\n",
              "      <td>자영업</td>\n",
              "      <td>0</td>\n",
              "    </tr>\n",
              "    <tr>\n",
              "      <th>6967</th>\n",
              "      <td>20210407</td>\n",
              "      <td>6</td>\n",
              "      <td>100138344</td>\n",
              "      <td>의령군다선거구</td>\n",
              "      <td>경상남도</td>\n",
              "      <td>의령군</td>\n",
              "      <td>2</td>\n",
              "      <td>차성길</td>\n",
              "      <td>0</td>\n",
              "      <td>19610519</td>\n",
              "      <td>경상남도 의령군 정곡면 법정로8길</td>\n",
              "      <td>무직</td>\n",
              "      <td>0</td>\n",
              "    </tr>\n",
              "    <tr>\n",
              "      <th>6968</th>\n",
              "      <td>20210407</td>\n",
              "      <td>6</td>\n",
              "      <td>100138337</td>\n",
              "      <td>의령군다선거구</td>\n",
              "      <td>경상남도</td>\n",
              "      <td>의령군</td>\n",
              "      <td>6</td>\n",
              "      <td>윤병열</td>\n",
              "      <td>0</td>\n",
              "      <td>19590514</td>\n",
              "      <td>경상남도 의령군 지정면 함의로</td>\n",
              "      <td>농업</td>\n",
              "      <td>0</td>\n",
              "    </tr>\n",
              "    <tr>\n",
              "      <th>6969</th>\n",
              "      <td>20210407</td>\n",
              "      <td>6</td>\n",
              "      <td>100138310</td>\n",
              "      <td>함안군다선거구</td>\n",
              "      <td>경상남도</td>\n",
              "      <td>함안군</td>\n",
              "      <td>1</td>\n",
              "      <td>조호기</td>\n",
              "      <td>0</td>\n",
              "      <td>19740911</td>\n",
              "      <td>경상남도 함안군 칠원읍 삼호길</td>\n",
              "      <td>자영업</td>\n",
              "      <td>0</td>\n",
              "    </tr>\n",
              "    <tr>\n",
              "      <th>6970</th>\n",
              "      <td>20210407</td>\n",
              "      <td>6</td>\n",
              "      <td>100138289</td>\n",
              "      <td>함안군다선거구</td>\n",
              "      <td>경상남도</td>\n",
              "      <td>함안군</td>\n",
              "      <td>2</td>\n",
              "      <td>황철용</td>\n",
              "      <td>0</td>\n",
              "      <td>19670328</td>\n",
              "      <td>경상남도 함안군 칠원읍 경남대로</td>\n",
              "      <td>농업인</td>\n",
              "      <td>0</td>\n",
              "    </tr>\n",
              "  </tbody>\n",
              "</table>\n",
              "</div>"
            ],
            "text/plain": [
              "          sgId sgTypecode    cnddtId  ...             address  job status\n",
              "6966  20210407          6  100138297  ...    전라남도 보성군 복내면 송재로  자영업      0\n",
              "6967  20210407          6  100138344  ...  경상남도 의령군 정곡면 법정로8길   무직      0\n",
              "6968  20210407          6  100138337  ...    경상남도 의령군 지정면 함의로   농업      0\n",
              "6969  20210407          6  100138310  ...    경상남도 함안군 칠원읍 삼호길  자영업      0\n",
              "6970  20210407          6  100138289  ...   경상남도 함안군 칠원읍 경남대로  농업인      0\n",
              "\n",
              "[5 rows x 13 columns]"
            ]
          },
          "metadata": {
            "tags": []
          },
          "execution_count": 189
        }
      ]
    },
    {
      "cell_type": "markdown",
      "metadata": {
        "id": "d9aOybMW1cXr"
      },
      "source": [
        "encoding the gender data 0 / 1"
      ]
    },
    {
      "cell_type": "code",
      "metadata": {
        "id": "CphAs4z549-b"
      },
      "source": [
        "candidate[candidate['giho'] == ''] = 1"
      ],
      "execution_count": 220,
      "outputs": []
    },
    {
      "cell_type": "markdown",
      "metadata": {
        "id": "YIt6UA2_6OjE"
      },
      "source": [
        "giho null value processing"
      ]
    },
    {
      "cell_type": "code",
      "metadata": {
        "id": "KrxYFmow21xI"
      },
      "source": [
        "candidate = candidate.astype({'sgId':int, 'sgTypecode':int, 'cnddtId':int, 'gender':int, 'status':int, 'giho':int})\n",
        "candidate.set_index('sgId', inplace=True)"
      ],
      "execution_count": 223,
      "outputs": []
    },
    {
      "cell_type": "code",
      "metadata": {
        "colab": {
          "base_uri": "https://localhost:8080/",
          "height": 419
        },
        "id": "mq3m2A5o6Slu",
        "outputId": "b4bdf9dd-ecba-4a52-c730-e370cf48fc4e"
      },
      "source": [
        "candidate.reset_index()"
      ],
      "execution_count": 229,
      "outputs": [
        {
          "output_type": "execute_result",
          "data": {
            "text/html": [
              "<div>\n",
              "<style scoped>\n",
              "    .dataframe tbody tr th:only-of-type {\n",
              "        vertical-align: middle;\n",
              "    }\n",
              "\n",
              "    .dataframe tbody tr th {\n",
              "        vertical-align: top;\n",
              "    }\n",
              "\n",
              "    .dataframe thead th {\n",
              "        text-align: right;\n",
              "    }\n",
              "</style>\n",
              "<table border=\"1\" class=\"dataframe\">\n",
              "  <thead>\n",
              "    <tr style=\"text-align: right;\">\n",
              "      <th></th>\n",
              "      <th>sgId</th>\n",
              "      <th>sgTypecode</th>\n",
              "      <th>cnddtId</th>\n",
              "      <th>sggName</th>\n",
              "      <th>sdName</th>\n",
              "      <th>wiwName</th>\n",
              "      <th>giho</th>\n",
              "      <th>name</th>\n",
              "      <th>gender</th>\n",
              "      <th>birthday</th>\n",
              "      <th>address</th>\n",
              "      <th>job</th>\n",
              "      <th>status</th>\n",
              "    </tr>\n",
              "  </thead>\n",
              "  <tbody>\n",
              "    <tr>\n",
              "      <th>0</th>\n",
              "      <td>20160413</td>\n",
              "      <td>2</td>\n",
              "      <td>100118613</td>\n",
              "      <td>종로구</td>\n",
              "      <td>서울특별시</td>\n",
              "      <td>종로구</td>\n",
              "      <td>1</td>\n",
              "      <td>오세훈</td>\n",
              "      <td>0</td>\n",
              "      <td>19610104</td>\n",
              "      <td></td>\n",
              "      <td>변호사</td>\n",
              "      <td>0</td>\n",
              "    </tr>\n",
              "    <tr>\n",
              "      <th>1</th>\n",
              "      <td>20160413</td>\n",
              "      <td>2</td>\n",
              "      <td>100119321</td>\n",
              "      <td>종로구</td>\n",
              "      <td>서울특별시</td>\n",
              "      <td>종로구</td>\n",
              "      <td>2</td>\n",
              "      <td>정세균</td>\n",
              "      <td>0</td>\n",
              "      <td>19500926</td>\n",
              "      <td></td>\n",
              "      <td>국회의원</td>\n",
              "      <td>0</td>\n",
              "    </tr>\n",
              "    <tr>\n",
              "      <th>2</th>\n",
              "      <td>20160413</td>\n",
              "      <td>2</td>\n",
              "      <td>100119833</td>\n",
              "      <td>종로구</td>\n",
              "      <td>서울특별시</td>\n",
              "      <td>종로구</td>\n",
              "      <td>3</td>\n",
              "      <td>박태순</td>\n",
              "      <td>0</td>\n",
              "      <td>19630228</td>\n",
              "      <td></td>\n",
              "      <td>사회갈등연구소 대표이사</td>\n",
              "      <td>0</td>\n",
              "    </tr>\n",
              "    <tr>\n",
              "      <th>3</th>\n",
              "      <td>20160413</td>\n",
              "      <td>2</td>\n",
              "      <td>100120092</td>\n",
              "      <td>종로구</td>\n",
              "      <td>서울특별시</td>\n",
              "      <td>종로구</td>\n",
              "      <td>4</td>\n",
              "      <td>윤공규</td>\n",
              "      <td>0</td>\n",
              "      <td>19630421</td>\n",
              "      <td></td>\n",
              "      <td>정당인</td>\n",
              "      <td>0</td>\n",
              "    </tr>\n",
              "    <tr>\n",
              "      <th>4</th>\n",
              "      <td>20160413</td>\n",
              "      <td>2</td>\n",
              "      <td>100120147</td>\n",
              "      <td>종로구</td>\n",
              "      <td>서울특별시</td>\n",
              "      <td>종로구</td>\n",
              "      <td>5</td>\n",
              "      <td>김한울</td>\n",
              "      <td>0</td>\n",
              "      <td>19781216</td>\n",
              "      <td></td>\n",
              "      <td>종로구 지역 활동가</td>\n",
              "      <td>0</td>\n",
              "    </tr>\n",
              "    <tr>\n",
              "      <th>...</th>\n",
              "      <td>...</td>\n",
              "      <td>...</td>\n",
              "      <td>...</td>\n",
              "      <td>...</td>\n",
              "      <td>...</td>\n",
              "      <td>...</td>\n",
              "      <td>...</td>\n",
              "      <td>...</td>\n",
              "      <td>...</td>\n",
              "      <td>...</td>\n",
              "      <td>...</td>\n",
              "      <td>...</td>\n",
              "      <td>...</td>\n",
              "    </tr>\n",
              "    <tr>\n",
              "      <th>6966</th>\n",
              "      <td>20210407</td>\n",
              "      <td>6</td>\n",
              "      <td>100138297</td>\n",
              "      <td>보성군다선거구</td>\n",
              "      <td>전라남도</td>\n",
              "      <td>보성군</td>\n",
              "      <td>7</td>\n",
              "      <td>윤정재</td>\n",
              "      <td>0</td>\n",
              "      <td>19690412</td>\n",
              "      <td>전라남도 보성군 복내면 송재로</td>\n",
              "      <td>자영업</td>\n",
              "      <td>0</td>\n",
              "    </tr>\n",
              "    <tr>\n",
              "      <th>6967</th>\n",
              "      <td>20210407</td>\n",
              "      <td>6</td>\n",
              "      <td>100138344</td>\n",
              "      <td>의령군다선거구</td>\n",
              "      <td>경상남도</td>\n",
              "      <td>의령군</td>\n",
              "      <td>2</td>\n",
              "      <td>차성길</td>\n",
              "      <td>0</td>\n",
              "      <td>19610519</td>\n",
              "      <td>경상남도 의령군 정곡면 법정로8길</td>\n",
              "      <td>무직</td>\n",
              "      <td>0</td>\n",
              "    </tr>\n",
              "    <tr>\n",
              "      <th>6968</th>\n",
              "      <td>20210407</td>\n",
              "      <td>6</td>\n",
              "      <td>100138337</td>\n",
              "      <td>의령군다선거구</td>\n",
              "      <td>경상남도</td>\n",
              "      <td>의령군</td>\n",
              "      <td>6</td>\n",
              "      <td>윤병열</td>\n",
              "      <td>0</td>\n",
              "      <td>19590514</td>\n",
              "      <td>경상남도 의령군 지정면 함의로</td>\n",
              "      <td>농업</td>\n",
              "      <td>0</td>\n",
              "    </tr>\n",
              "    <tr>\n",
              "      <th>6969</th>\n",
              "      <td>20210407</td>\n",
              "      <td>6</td>\n",
              "      <td>100138310</td>\n",
              "      <td>함안군다선거구</td>\n",
              "      <td>경상남도</td>\n",
              "      <td>함안군</td>\n",
              "      <td>1</td>\n",
              "      <td>조호기</td>\n",
              "      <td>0</td>\n",
              "      <td>19740911</td>\n",
              "      <td>경상남도 함안군 칠원읍 삼호길</td>\n",
              "      <td>자영업</td>\n",
              "      <td>0</td>\n",
              "    </tr>\n",
              "    <tr>\n",
              "      <th>6970</th>\n",
              "      <td>20210407</td>\n",
              "      <td>6</td>\n",
              "      <td>100138289</td>\n",
              "      <td>함안군다선거구</td>\n",
              "      <td>경상남도</td>\n",
              "      <td>함안군</td>\n",
              "      <td>2</td>\n",
              "      <td>황철용</td>\n",
              "      <td>0</td>\n",
              "      <td>19670328</td>\n",
              "      <td>경상남도 함안군 칠원읍 경남대로</td>\n",
              "      <td>농업인</td>\n",
              "      <td>0</td>\n",
              "    </tr>\n",
              "  </tbody>\n",
              "</table>\n",
              "<p>6971 rows × 13 columns</p>\n",
              "</div>"
            ],
            "text/plain": [
              "          sgId  sgTypecode    cnddtId  ...             address           job status\n",
              "0     20160413           2  100118613  ...                               변호사      0\n",
              "1     20160413           2  100119321  ...                              국회의원      0\n",
              "2     20160413           2  100119833  ...                      사회갈등연구소 대표이사      0\n",
              "3     20160413           2  100120092  ...                               정당인      0\n",
              "4     20160413           2  100120147  ...                        종로구 지역 활동가      0\n",
              "...        ...         ...        ...  ...                 ...           ...    ...\n",
              "6966  20210407           6  100138297  ...    전라남도 보성군 복내면 송재로           자영업      0\n",
              "6967  20210407           6  100138344  ...  경상남도 의령군 정곡면 법정로8길            무직      0\n",
              "6968  20210407           6  100138337  ...    경상남도 의령군 지정면 함의로            농업      0\n",
              "6969  20210407           6  100138310  ...    경상남도 함안군 칠원읍 삼호길           자영업      0\n",
              "6970  20210407           6  100138289  ...   경상남도 함안군 칠원읍 경남대로           농업인      0\n",
              "\n",
              "[6971 rows x 13 columns]"
            ]
          },
          "metadata": {
            "tags": []
          },
          "execution_count": 229
        }
      ]
    },
    {
      "cell_type": "code",
      "metadata": {
        "colab": {
          "base_uri": "https://localhost:8080/",
          "height": 235
        },
        "id": "1npou0NT6Y7G",
        "outputId": "2df17bb5-31d7-423d-f029-be3b2e7ebe12"
      },
      "source": [
        "candidate.head()"
      ],
      "execution_count": 227,
      "outputs": [
        {
          "output_type": "execute_result",
          "data": {
            "text/html": [
              "<div>\n",
              "<style scoped>\n",
              "    .dataframe tbody tr th:only-of-type {\n",
              "        vertical-align: middle;\n",
              "    }\n",
              "\n",
              "    .dataframe tbody tr th {\n",
              "        vertical-align: top;\n",
              "    }\n",
              "\n",
              "    .dataframe thead th {\n",
              "        text-align: right;\n",
              "    }\n",
              "</style>\n",
              "<table border=\"1\" class=\"dataframe\">\n",
              "  <thead>\n",
              "    <tr style=\"text-align: right;\">\n",
              "      <th></th>\n",
              "      <th>sgTypecode</th>\n",
              "      <th>cnddtId</th>\n",
              "      <th>sggName</th>\n",
              "      <th>sdName</th>\n",
              "      <th>wiwName</th>\n",
              "      <th>giho</th>\n",
              "      <th>name</th>\n",
              "      <th>gender</th>\n",
              "      <th>birthday</th>\n",
              "      <th>address</th>\n",
              "      <th>job</th>\n",
              "      <th>status</th>\n",
              "    </tr>\n",
              "    <tr>\n",
              "      <th>sgId</th>\n",
              "      <th></th>\n",
              "      <th></th>\n",
              "      <th></th>\n",
              "      <th></th>\n",
              "      <th></th>\n",
              "      <th></th>\n",
              "      <th></th>\n",
              "      <th></th>\n",
              "      <th></th>\n",
              "      <th></th>\n",
              "      <th></th>\n",
              "      <th></th>\n",
              "    </tr>\n",
              "  </thead>\n",
              "  <tbody>\n",
              "    <tr>\n",
              "      <th>20160413</th>\n",
              "      <td>2</td>\n",
              "      <td>100118613</td>\n",
              "      <td>종로구</td>\n",
              "      <td>서울특별시</td>\n",
              "      <td>종로구</td>\n",
              "      <td>1</td>\n",
              "      <td>오세훈</td>\n",
              "      <td>0</td>\n",
              "      <td>19610104</td>\n",
              "      <td></td>\n",
              "      <td>변호사</td>\n",
              "      <td>0</td>\n",
              "    </tr>\n",
              "    <tr>\n",
              "      <th>20160413</th>\n",
              "      <td>2</td>\n",
              "      <td>100119321</td>\n",
              "      <td>종로구</td>\n",
              "      <td>서울특별시</td>\n",
              "      <td>종로구</td>\n",
              "      <td>2</td>\n",
              "      <td>정세균</td>\n",
              "      <td>0</td>\n",
              "      <td>19500926</td>\n",
              "      <td></td>\n",
              "      <td>국회의원</td>\n",
              "      <td>0</td>\n",
              "    </tr>\n",
              "    <tr>\n",
              "      <th>20160413</th>\n",
              "      <td>2</td>\n",
              "      <td>100119833</td>\n",
              "      <td>종로구</td>\n",
              "      <td>서울특별시</td>\n",
              "      <td>종로구</td>\n",
              "      <td>3</td>\n",
              "      <td>박태순</td>\n",
              "      <td>0</td>\n",
              "      <td>19630228</td>\n",
              "      <td></td>\n",
              "      <td>사회갈등연구소 대표이사</td>\n",
              "      <td>0</td>\n",
              "    </tr>\n",
              "    <tr>\n",
              "      <th>20160413</th>\n",
              "      <td>2</td>\n",
              "      <td>100120092</td>\n",
              "      <td>종로구</td>\n",
              "      <td>서울특별시</td>\n",
              "      <td>종로구</td>\n",
              "      <td>4</td>\n",
              "      <td>윤공규</td>\n",
              "      <td>0</td>\n",
              "      <td>19630421</td>\n",
              "      <td></td>\n",
              "      <td>정당인</td>\n",
              "      <td>0</td>\n",
              "    </tr>\n",
              "    <tr>\n",
              "      <th>20160413</th>\n",
              "      <td>2</td>\n",
              "      <td>100120147</td>\n",
              "      <td>종로구</td>\n",
              "      <td>서울특별시</td>\n",
              "      <td>종로구</td>\n",
              "      <td>5</td>\n",
              "      <td>김한울</td>\n",
              "      <td>0</td>\n",
              "      <td>19781216</td>\n",
              "      <td></td>\n",
              "      <td>종로구 지역 활동가</td>\n",
              "      <td>0</td>\n",
              "    </tr>\n",
              "  </tbody>\n",
              "</table>\n",
              "</div>"
            ],
            "text/plain": [
              "          sgTypecode    cnddtId sggName  ... address           job  status\n",
              "sgId                                     ...                              \n",
              "20160413           2  100118613     종로구  ...                   변호사       0\n",
              "20160413           2  100119321     종로구  ...                  국회의원       0\n",
              "20160413           2  100119833     종로구  ...          사회갈등연구소 대표이사       0\n",
              "20160413           2  100120092     종로구  ...                   정당인       0\n",
              "20160413           2  100120147     종로구  ...            종로구 지역 활동가       0\n",
              "\n",
              "[5 rows x 12 columns]"
            ]
          },
          "metadata": {
            "tags": []
          },
          "execution_count": 227
        }
      ]
    },
    {
      "cell_type": "markdown",
      "metadata": {
        "id": "67NhDMEZn3Xr"
      },
      "source": [
        "## Polls data preprocessing"
      ]
    },
    {
      "cell_type": "markdown",
      "metadata": {
        "id": "R5hZtZY0n99-"
      },
      "source": [
        "### pre_polls data preprocessing"
      ]
    },
    {
      "cell_type": "markdown",
      "metadata": {
        "id": "-mHytbGsoAu1"
      },
      "source": [
        "### main_polls data preprocessing"
      ]
    },
    {
      "cell_type": "code",
      "metadata": {
        "id": "JOc9wKZvoCnD"
      },
      "source": [
        ""
      ],
      "execution_count": null,
      "outputs": []
    },
    {
      "cell_type": "markdown",
      "metadata": {
        "id": "O9RGEVbx2Oel"
      },
      "source": [
        "# MySQL link to GCP"
      ]
    },
    {
      "cell_type": "markdown",
      "metadata": {
        "id": "_AL7A9E13Y5a"
      },
      "source": [
        "## GCP MySQL connection"
      ]
    },
    {
      "cell_type": "code",
      "metadata": {
        "colab": {
          "base_uri": "https://localhost:8080/"
        },
        "id": "aCIOhB3Y2TNd",
        "outputId": "79383243-792d-47ae-d7a2-3470af4e2301"
      },
      "source": [
        "host = '34.64.72.201'\n",
        "user = 'root'\n",
        "pw = 'root'\n",
        "db = 'election'\n",
        "port = 3306\n",
        "\n",
        "try:\n",
        "    conn = pymysql.connect(host=host, port=port, user=user, password=pw, db=db)\n",
        "    engine = create_engine('mysql+mysqldb://'+user+':'+pw+'@'+host+':3306/'+db, encoding='utf-8')\n",
        "\n",
        "except Exception as err:\n",
        "    print('Connection Failed (Error msg : ' + str(err) + ')')\n",
        "else:\n",
        "    print('Connection  Success!')"
      ],
      "execution_count": 31,
      "outputs": [
        {
          "output_type": "stream",
          "text": [
            "Connection  Success!\n"
          ],
          "name": "stdout"
        }
      ]
    },
    {
      "cell_type": "code",
      "metadata": {
        "colab": {
          "base_uri": "https://localhost:8080/"
        },
        "id": "JlF3oD4h3mrr",
        "outputId": "0a9fefb6-8837-4665-d48d-3f3dd1b8bf31"
      },
      "source": [
        "connection = engine.connect()\n",
        "connection"
      ],
      "execution_count": 32,
      "outputs": [
        {
          "output_type": "execute_result",
          "data": {
            "text/plain": [
              "<sqlalchemy.engine.base.Connection at 0x7f6883ffded0>"
            ]
          },
          "metadata": {
            "tags": []
          },
          "execution_count": 32
        }
      ]
    },
    {
      "cell_type": "markdown",
      "metadata": {
        "id": "dHxqvzWuexJb"
      },
      "source": [
        "# Queries & data insert"
      ]
    },
    {
      "cell_type": "markdown",
      "metadata": {
        "id": "3XfpGgZ3e1_s"
      },
      "source": [
        "## CREATE TABLE"
      ]
    },
    {
      "cell_type": "code",
      "metadata": {
        "id": "jy4D1JLs2Nvr"
      },
      "source": [
        "create_election_code = \"\"\"CREATE TABLE election_code (  \n",
        "    sgId INT NOT NULL,\n",
        "    sgTypecode INT NOT NULL,\n",
        "    sgName INT NOT NULL,\n",
        "    sgVotedate TIMESTAMP NOT NULL,\n",
        "    PRIMARY KEY (sgId, sgTypecode)\n",
        ") default charset utf8;\"\"\""
      ],
      "execution_count": null,
      "outputs": []
    },
    {
      "cell_type": "code",
      "metadata": {
        "id": "Z0YADzWWe9wV"
      },
      "source": [
        "create_pre_polls = \"\"\"CREATE TABLE pre_polls (  \n",
        "    sgId INT NOT NULL,\n",
        "    sdName VARCHAR(30) NOT NULL ,\n",
        "    wiwName VARCHAR(30) NOT NULL ,\n",
        "    emdName VARCHAR(50) NOT NULL ,\n",
        "    evOrder INT NOT NULL ,\n",
        "    evPsName VARCHAR(80) NOT NULL ,\n",
        "    placeName VARCHAR(100) NOT NULL ,\n",
        "    `address` VARCHAR(150) NOT NULL ,\n",
        "    `floor` INT NOT NULL ,\n",
        "    PRIMARY KEY(evPsName) ,\n",
        "    FOREIGN KEY(sgId) REFERENCES election_code(sgId)\n",
        ") default charset utf8;\"\"\""
      ],
      "execution_count": null,
      "outputs": []
    },
    {
      "cell_type": "code",
      "metadata": {
        "id": "eXDG0Ozqe-L4"
      },
      "source": [
        "create_main_polls = \"\"\"CREATE TABLE main_polls (  \n",
        "    sgId INT NOT NULL,\n",
        "    sdName VARCHAR(30) NOT NULL ,\n",
        "    wiwName VARCHAR(30) NOT NULL ,\n",
        "    emdName VARCHAR(50) NOT NULL ,\n",
        "    PsName VARCHAR(80) NOT NULL ,\n",
        "    placeName VARCHAR(100) NOT NULL ,\n",
        "    `address` VARCHAR(150) NOT NULL ,\n",
        "    `floor` INT NOT NULL ,\n",
        "    PRIMARY KEY(PsName) ,\n",
        "    FOREIGN KEY(sgId) REFERENCES election_code(sgId)\n",
        ") default charset utf8;\"\"\""
      ],
      "execution_count": null,
      "outputs": []
    },
    {
      "cell_type": "code",
      "metadata": {
        "id": "hv9_PIE5e-fl"
      },
      "source": [
        "create_politician = \"\"\"CREATE TABLE politician (\n",
        "    num INT NOT NULL ,\n",
        "    `name` VARCHAR(20) NOT NULL ,\n",
        "    imageLink TEXT ,\n",
        "    sggName VARCHAR(35) NOT NULL ,\n",
        "    deptCode INT NOT NULL ,\n",
        "    memTitle LONGTEXT ,\n",
        "    birthday TIMESTAMP NOT NULL ,\n",
        "    age INT NOT NULL ,\n",
        "    PRIMARY KEY (num)\n",
        ") default charset utf8;\"\"\""
      ],
      "execution_count": null,
      "outputs": []
    },
    {
      "cell_type": "code",
      "metadata": {
        "id": "NvtPKj7_e_dp"
      },
      "source": [
        "create_candidate = \"\"\"CREATE TABLE candidate (\n",
        "    cnddtId INT NOT NULL ,\n",
        "    num INT NOT NULL ,\n",
        "    sgId INT NOT NULL ,\n",
        "    sgTypecode INT NOT NULL ,\n",
        "    sggName VARCHAR(35) NOT NULL ,\n",
        "    sdName VARCHAR(30) NOT NULL ,\n",
        "    wiwName VARCHAR(30) NOT NULL ,\n",
        "    giho INT NOT NULL ,\n",
        "    `name` VARCHAR(20) NOT NULL ,\n",
        "    gender TINYINT NOT NULL ,\n",
        "    `address` VARCHAR(100) ,\n",
        "    job VARCHAR(100) ,\n",
        "    `status` TINYINT NOT NULL ,\n",
        "    birthday TIMESTAMP NOT NULL ,\n",
        "    PRIMARY KEY (cnddtId),\n",
        "    FOREIGN KEY (num) REFERENCES politician (num),\n",
        "    FOREIGN KEY (sgId, sgTypecode) REFERENCES election_code (sgId, sgTypecode)\n",
        ") default charset utf8;\"\"\""
      ],
      "execution_count": null,
      "outputs": []
    },
    {
      "cell_type": "code",
      "metadata": {
        "id": "JJA6tG4We_hm"
      },
      "source": [
        "create_promise = \"\"\"CREATE TABLE promise (\n",
        "    prmIdx INT AUTO_INCREMENT NOT NULL ,\n",
        "    cnddtId INT NOT NULL ,\n",
        "    prmOrd INT ,\n",
        "    prmTitle VARCHAR(100) ,\n",
        "    prmCont LONGTEXT,\n",
        "    PRIMARY KEY (prmIdx),\n",
        "    FOREIGN KEY (cnddtId) REFERENCES candidate (cnddtId)\n",
        ");\"\"\""
      ],
      "execution_count": null,
      "outputs": []
    },
    {
      "cell_type": "markdown",
      "metadata": {
        "id": "nXHLyhaUiQxB"
      },
      "source": [
        "## Data insert"
      ]
    },
    {
      "cell_type": "markdown",
      "metadata": {
        "id": "15lOY9SViTg5"
      },
      "source": [
        "### election_code insert"
      ]
    },
    {
      "cell_type": "code",
      "metadata": {
        "id": "XMHIRC5IiVDb"
      },
      "source": [
        "election_code.to_sql(name='election_code', con=engine, if_exists='append')"
      ],
      "execution_count": 47,
      "outputs": []
    },
    {
      "cell_type": "markdown",
      "metadata": {
        "id": "OT4zF_U66biJ"
      },
      "source": [
        "### candidate insert"
      ]
    },
    {
      "cell_type": "code",
      "metadata": {
        "id": "X6zwUF_Eij3p"
      },
      "source": [
        "candidate.to_sql(name='candidate')"
      ],
      "execution_count": null,
      "outputs": []
    }
  ]
}